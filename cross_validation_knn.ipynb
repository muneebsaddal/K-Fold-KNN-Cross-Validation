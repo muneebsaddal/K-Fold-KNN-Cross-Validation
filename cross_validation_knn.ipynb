{
  "nbformat": 4,
  "nbformat_minor": 0,
  "metadata": {
    "kernelspec": {
      "display_name": "Python 3",
      "language": "python",
      "name": "python3"
    },
    "language_info": {
      "codemirror_mode": {
        "name": "ipython",
        "version": 3
      },
      "file_extension": ".py",
      "mimetype": "text/x-python",
      "name": "python",
      "nbconvert_exporter": "python",
      "pygments_lexer": "ipython3",
      "version": "3.7.1"
    },
    "nteract": {
      "version": "0.3.4"
    },
    "colab": {
      "name": "Coursework.txt",
      "provenance": [],
      "collapsed_sections": []
    }
  },
  "cells": [
    {
      "source": [
        "## Extracting Data"
      ],
      "cell_type": "markdown",
      "metadata": {}
    },
    {
      "cell_type": "code",
      "metadata": {
        "id": "jw5moev9U2f-"
      },
      "source": [
        "# set matplotlib backend to inline\n",
        "%matplotlib inline \n",
        "\n",
        "# import modules\n",
        "from sklearn import datasets \n",
        "import numpy as np \n",
        "import matplotlib.pyplot as plt \n",
        "import pandas as pd\n",
        "\n",
        "# load data\n",
        "wine=datasets.load_wine()\n",
        "# print(wine.DESCR)\n",
        "\n",
        "# this dataset has 13 features, we will only choose a subset of these\n",
        "df_wine = pd.DataFrame(wine.data, columns = wine.feature_names )\n",
        "selected_features = ['alcohol','flavanoids','color_intensity','ash']\n",
        "\n",
        "# extract the data as numpy arrays of features, X, and target, y\n",
        "X = df_wine[selected_features].values\n",
        "y = wine.target"
      ],
      "execution_count": 2,
      "outputs": []
    },
    {
      "source": [
        "## Plotting Data"
      ],
      "cell_type": "markdown",
      "metadata": {}
    },
    {
      "cell_type": "code",
      "metadata": {
        "id": "Wz6XPkb3U2gG"
      },
      "source": [
        "# define plotting function\n",
        "def myplotGrid(X, y):\n",
        "\n",
        "  # Changing grid style\n",
        "  plt.style.use('seaborn-whitegrid')\n",
        "  \n",
        "  # Defining histogram parameters\n",
        "  plt.hist(X, histtype='stepfilled', alpha=0.6, bins=30, range=(0,15), align=('mid'), color=['green', 'yellow', 'red', 'teal'], label=['min', 'max', 'mean', 'sd'])\n",
        "  \n",
        "  # Setting title and labels\n",
        "  plt.title(\"Visuaization of Wine training dataset\")\n",
        "  plt.xlabel(\"Features & Classes\")\n",
        "  plt.ylabel(\"Value\")\n",
        "\n",
        "  # Show the resulting plot\n",
        "  plt.legend()\n",
        "  plt.show()"
      ],
      "execution_count": 3,
      "outputs": []
    },
    {
      "cell_type": "code",
      "metadata": {
        "colab": {
          "base_uri": "https://localhost:8080/",
          "height": 291
        },
        "id": "d_3uld7FU2gJ",
        "outputId": "ea1c0e84-d26c-4fc5-a571-6c013136efa2"
      },
      "source": [
        "# run the plotting function\n",
        "myplotGrid(X, y)"
      ],
      "execution_count": 4,
      "outputs": [
        {
          "output_type": "display_data",
          "data": {
            "image/png": "[encoded data removed]",
            "text/plain": [
              "<Figure size 432x288 with 1 Axes>"
            ]
          },
          "metadata": {
            "tags": []
          }
        }
      ]
    },
    {
      "source": [
        "## Plotting Data with added noise"
      ],
      "cell_type": "markdown",
      "metadata": {}
    },
    {
      "cell_type": "code",
      "metadata": {
        "colab": {
          "base_uri": "https://localhost:8080/",
          "height": 291
        },
        "id": "G-LHv6ikU2gM",
        "outputId": "6d433880-4932-4c44-a7f4-eef19c479fb4"
      },
      "source": [
        "# noise code \n",
        "mySeed = 12345 \n",
        "np.random.seed(mySeed) \n",
        "XN=X+np.random.normal(0,0.5,X.shape)\n",
        "\n",
        "myplotGrid(XN,y)"
      ],
      "execution_count": 5,
      "outputs": [
        {
          "output_type": "display_data",
          "data": {
            "image/png": "[encoded data removed]",
            "text/plain": [
              "<Figure size 432x288 with 1 Axes>"
            ]
          },
          "metadata": {
            "tags": []
          }
        }
      ]
    },
    {
      "source": [
        "## kNN using skLearn for comparison"
      ],
      "cell_type": "markdown",
      "metadata": {}
    },
    {
      "cell_type": "code",
      "metadata": {
        "id": "rELoJdWIU2gX",
        "colab": {
          "base_uri": "https://localhost:8080/"
        },
        "outputId": "f446b1e4-c08a-46ef-f462-40447c26cbde"
      },
      "source": [
        "# Library imports\n",
        "from sklearn.model_selection import train_test_split\n",
        "from sklearn.neighbors import KNeighborsClassifier\n",
        "from sklearn.metrics import accuracy_score, confusion_matrix\n",
        "\n",
        "# Spliting training and test data\n",
        "X_train,X_test,y_train,y_test = train_test_split(X, y, test_size=0.2)\n",
        "\n",
        "k = 7\n",
        "\n",
        "# Running kNN sklearn function\n",
        "knn = KNeighborsClassifier(n_neighbors = k)\n",
        "knn.fit(X_train, y_train)\n",
        "y_prediction = knn.predict(X_test)\n",
        "\n",
        "# Printing accuracy\n",
        "print(\"accuracy= \",accuracy_score(y_test,y_prediction))\n"
      ],
      "execution_count": 6,
      "outputs": [
        {
          "output_type": "stream",
          "text": [
            "accuracy=  0.9444444444444444\n"
          ],
          "name": "stdout"
        }
      ]
    },
    {
      "source": [
        "# Defining kNN prediction function and spliting train and test data"
      ],
      "cell_type": "markdown",
      "metadata": {}
    },
    {
      "cell_type": "code",
      "metadata": {
        "id": "Xk9ELj9TU2gZ"
      },
      "source": [
        "# mykNN code\n",
        "\n",
        "# Library imports\n",
        "from scipy.stats import mode\n",
        "from numpy.random import randint\n",
        "import seaborn as sn\n",
        "import statistics\n",
        "\n",
        "# Euclidean Distance function\n",
        "def euclideanDistance(point1, point2):\n",
        "  distance = np.sqrt(np.sum(np.subtract(point1,point2)**2))\n",
        "  return distance\n",
        "\n",
        "# Manhattan Distance function\n",
        "def manhattanDistance(point1, point2):\n",
        "  distance = sum(abs(val1-val2) for val1, val2 in zip(point1,point2))\n",
        "  return distance\n",
        "\n",
        "# Prediction function\n",
        "def predict(X, y, X_, k, distanceFun):\n",
        "  '''\n",
        "    Returns a list of predicted labels.\n",
        "      \n",
        "      Parameters:\n",
        "        \n",
        "        X (list): list of train input\n",
        "        y (list): list of train target\n",
        "        X_(list): list of test input\n",
        "        k(int): value of k\n",
        "        distanceFun(list): string of list of distance calculating function\n",
        "\n",
        "      Returns:\n",
        "        \n",
        "        predict_labels (list): list of predicted labels\n",
        "  '''\n",
        "  \n",
        "  # Defining list for predicted labels\n",
        "  predict_labels = []\n",
        "  \n",
        "  # Iterating on test input and calculating distance from items in train input\n",
        "  for items in X_:\n",
        "    \n",
        "    pointsDistance = []\n",
        "    \n",
        "    # Checking for distance function preference\n",
        "    for i in range(len(X)):\n",
        "      if(distanceFun == 'manhattan'):\n",
        "        distances = manhattanDistance(np.array(X[i]), items)\n",
        "      elif(distanceFun == 'euclidean'):\n",
        "        distances = euclideanDistance(np.array(X[i]), items)\n",
        "      \n",
        "      pointsDistance.append(distances)\n",
        "    \n",
        "    pointsDistance = np.array(pointsDistance)\n",
        "    distance = np.argsort(pointsDistance)[:k]\n",
        "\n",
        "    # Storing predicted labels\n",
        "    labels = y[distance]\n",
        "    labels_ = mode(labels)\n",
        "    labels_ = labels_.mode[0]\n",
        "    predict_labels.append(labels_)\n",
        "  \n",
        "  return predict_labels\n",
        "\n",
        "# Dividing input and labels into train and test data \n",
        "train_idx = xxx = randint(0, 178, 120)\n",
        "X_train = X[train_idx]\n",
        "y_train = y[train_idx]\n",
        "\n",
        "test_idx = xxx = randint(0, 150, 58)\n",
        "X_test = X[test_idx]\n",
        "y_test = y[test_idx]\n",
        "\n",
        "# Calling the prediction function\n",
        "y_pred = predict(X_train, y_train, X_test, 4, 'euclidean')"
      ],
      "execution_count": 7,
      "outputs": []
    },
    {
      "source": [
        "# Evaluation matrices functions"
      ],
      "cell_type": "markdown",
      "metadata": {}
    },
    {
      "cell_type": "code",
      "metadata": {
        "colab": {
          "base_uri": "https://localhost:8080/",
          "height": 329
        },
        "id": "zPOZGLy_U2gc",
        "outputId": "f68cd274-da82-4db9-e923-3631e89efa4c"
      },
      "source": [
        "#######   Confusion Matrix function   #######\n",
        "def confusionFunc(test, pred):\n",
        "  '''\n",
        "    Show the confusion matrix and return matrix.\n",
        "      \n",
        "      Parameters:\n",
        "        \n",
        "        test (list): list of test target\n",
        "        pred (list): list of predicted labels\n",
        "\n",
        "      Output:\n",
        "        \n",
        "        Returns the matrix.\n",
        "  '''\n",
        "  unique = set(test)\n",
        "\n",
        "  # Defining matrix\n",
        "  matrix = [list() for x in range(len(unique))]\n",
        "  \n",
        "  # Converting list to matrix\n",
        "  for i in range(len(unique)):\n",
        "    matrix[i] = [0 for x in range(len(unique))]\n",
        "  \n",
        "  lookup = dict()\n",
        "  \n",
        "  for i, value in enumerate(unique):\n",
        "    lookup[value] = i\n",
        "  \n",
        "  for i in range(len(test)):\n",
        "    x = lookup[test[i]]\n",
        "    Y = lookup[pred[i]]\n",
        "    matrix[Y][x] += 1\n",
        "  \n",
        "  # Making heatmap of the matrix \n",
        "  sn.heatmap(matrix, linecolor='white', linewidths=0.5, xticklabels='' , yticklabels='', annot=True, cmap='PuBu')\n",
        "  \n",
        "  # Show the resulting plot\n",
        "  plt.show()\n",
        "\n",
        "  return matrix\n",
        "\n",
        "\n",
        "#######   Accuracy function   #######\n",
        "def accuracyFunc(test, pred):\n",
        "  '''\n",
        "    Returns the accuracy.\n",
        "      \n",
        "      Parameters:\n",
        "        \n",
        "        test (list): list of test target\n",
        "        pred (list): list of predicted labels\n",
        "\n",
        "      Output:\n",
        "        \n",
        "        returns the accuracy.\n",
        "  '''\n",
        "  correct = 0\n",
        "  \n",
        "  # getting count of correct predictions\n",
        "  for i in range(len(test)):\n",
        "    if (test[i] == pred[i]):\n",
        "      correct += 1\n",
        "  \n",
        "  # Dividing correct by total to get accuracy \n",
        "  accuracy = correct/float(len(test))\n",
        "  \n",
        "  # returning the resulting accuracy\n",
        "  return accuracy\n",
        "\n",
        "print(\"Accuracy: \", accuracyFunc(y_test, y_pred))\n",
        "\n",
        "print(\"\\nConfusion Matrix:\")\n",
        "confusionFunc(y_test, y_pred)\n",
        "print(\" \")"
      ],
      "execution_count": 32,
      "outputs": [
        {
          "output_type": "stream",
          "text": [
            "Accuracy:  0.9655172413793104\n",
            "\n",
            "Confusion Matrix:\n"
          ],
          "name": "stdout"
        },
        {
          "output_type": "display_data",
          "data": {
            "image/png": "[encoded data removed]",
            "text/plain": [
              "<Figure size 432x288 with 2 Axes>"
            ]
          },
          "metadata": {
            "tags": []
          }
        },
        {
          "output_type": "stream",
          "text": [
            " \n"
          ],
          "name": "stdout"
        }
      ]
    },
    {
      "source": [
        "## Testing evaluation matrices"
      ],
      "cell_type": "markdown",
      "metadata": {}
    },
    {
      "cell_type": "code",
      "metadata": {
        "colab": {
          "base_uri": "https://localhost:8080/",
          "height": 630
        },
        "id": "b1OGIVCgU2gd",
        "outputId": "12a2240b-87e0-499e-916d-90438927e4c8"
      },
      "source": [
        "# test evaluation code against sklearn.matrices\n",
        "\n",
        "# evaluation data\n",
        "e_y_test = [2, 0, 2, 2, 0, 1]\n",
        "e_y_pred = [0, 0, 2, 2, 0, 2]\n",
        "\n",
        "\n",
        "# self implemented accuracy\n",
        "true = 0\n",
        "for i in range(len(e_y_test)):\n",
        "  if (e_y_test[i] == e_y_pred[i]):\n",
        "    true += 1\n",
        "acc = true/float(len(e_y_test))\n",
        "print(\"Self Implemented accuarcy score: \", acc)\n",
        "\n",
        "# sklearn implemented accuracy\n",
        "sk_acc = accuracy_score(e_y_test, e_y_pred)\n",
        "print(\"sklearn implemented accuracy: \", sk_acc)\n",
        "\n",
        "\n",
        "# self implemented confusion matrix\n",
        "unique = set(e_y_test)\n",
        "matrix = [list() for x in range(len(unique))]\n",
        "for i in range(len(unique)):\n",
        "  matrix[i] = [0 for x in range(len(unique))]\n",
        "lookup = dict()\n",
        "for i, value in enumerate(unique):\n",
        "  lookup[value] = i\n",
        "for i in range(len(e_y_test)):\n",
        "  x = lookup[e_y_test[i]]\n",
        "  Y = lookup[e_y_pred[i]]\n",
        "  matrix[Y][x] += 1\n",
        "\n",
        "matrix = [[matrix[j][i] for j in range(len(matrix))] for i in range(len(matrix[0]))]\n",
        "sn.heatmap(matrix, linecolor='white', linewidths=0.5, xticklabels='' , yticklabels='', annot=True, cmap='PuBu')\n",
        "print(\"\\n\\nSelf Implemented confusion matrix\")\n",
        "plt.show()\n",
        "\n",
        "#sklearn implemented confusion matrix\n",
        "conf = confusion_matrix(e_y_test, e_y_pred)\n",
        "sn.heatmap(conf, linecolor='white', linewidths=0.5, xticklabels='' , yticklabels='', annot=True, cmap='PuBu')\n",
        "print(\"\\nSklearn Implemented confusion matrix\")\n",
        "plt.show()"
      ],
      "execution_count": 9,
      "outputs": [
        {
          "output_type": "stream",
          "text": [
            "Self Implemented accuarcy score:  0.6666666666666666\n",
            "sklearn implemented accuracy:  0.6666666666666666\n",
            "\n",
            "\n",
            "Self Implemented confusion matrix\n"
          ],
          "name": "stdout"
        },
        {
          "output_type": "display_data",
          "data": {
            "image/png": "[encoded data removed]",
            "text/plain": [
              "<Figure size 432x288 with 2 Axes>"
            ]
          },
          "metadata": {
            "tags": []
          }
        },
        {
          "output_type": "stream",
          "text": [
            "\n",
            "Sklearn Implemented confusion matrix\n"
          ],
          "name": "stdout"
        },
        {
          "output_type": "display_data",
          "data": {
            "image/png": "[encoded data removed]",
            "text/plain": [
              "<Figure size 432x288 with 2 Axes>"
            ]
          },
          "metadata": {
            "tags": []
          }
        }
      ]
    },
    {
      "source": [
        "# Cross-Validating kNN"
      ],
      "cell_type": "markdown",
      "metadata": {}
    },
    {
      "cell_type": "code",
      "metadata": {
        "id": "57Vk2GZXU2gf"
      },
      "source": [
        "# parameters for testing code\n",
        "nFolds = 5\n",
        "np.random.seed(mySeed)\n",
        "\n",
        "# Creates an array of random permutation of indices between 0 and the length of the X data.\n",
        "# The indices are then split up into (folds) folds\n",
        "indices = np.random.permutation(np.arange(0,len(X),1))\n",
        "indices = np.array_split(indices, nFolds)\n",
        "\n",
        "k=[2, 3, 4, 5, 6]"
      ],
      "execution_count": 10,
      "outputs": []
    },
    {
      "cell_type": "code",
      "metadata": {
        "id": "5QEgthX8U2gg"
      },
      "source": [
        "# myNestedCrossVal code\n",
        "def myNestedCrossVal(X, y, folds, k, distanceAlgo, mySeed):\n",
        "  '''\n",
        "    Runs knn on multiple fold of data & prints out the evaluation matrices\n",
        "      \n",
        "      Parameters:\n",
        "        \n",
        "        X (list): list of features\n",
        "        y (list): list of target\n",
        "        folds (int): number of folds\n",
        "        k (list): list of integers varying for number of neighbors\n",
        "        distanceAlgo (list): String list defining the distance algorithm\n",
        "        mySeed (int): random seed\n",
        "\n",
        "      Output:\n",
        "        \n",
        "        returns the average accuracy and final matrix\n",
        "  '''\n",
        "  # average accuracies list\n",
        "  accAverageList = []\n",
        "  # resulting matrices list\n",
        "  confAverageList = []\n",
        "\n",
        "  for iFold in range(0,folds):\n",
        "    testFold = indices[iFold]\n",
        "    print('\\n*** Iterration no.', iFold+1, \"***\")\n",
        "\n",
        "    # Dividing data into train & test according to the fold number\n",
        "    trainFold = indices[iFold][:]\n",
        "    X_trainFold = X[trainFold]\n",
        "    y_trainFold = y[trainFold]\n",
        "\n",
        "    X_testFold = X[testFold]\n",
        "    y_testFold = y[testFold]\n",
        "\n",
        "    # Calling the prediction function\n",
        "    y_predFold = predict(X_trainFold, y_trainFold, X_testFold, k[iFold], distanceAlgo[iFold%2])\n",
        "\n",
        "    # Calling the accuracyFunc to calculate accuracy\n",
        "    accFold = accuracyFunc(y_testFold, y_predFold)\n",
        "\n",
        "    # Calling the confusionFunc to get the matrices\n",
        "    confFold = confusionFunc(y_testFold, y_predFold)\n",
        "\n",
        "    # Printing accuracy metrics\n",
        "    print(\"k = \", k[iFold])\n",
        "    print(\"Distance = \", distanceAlgo[iFold%2])\n",
        "    print(\"accuracy = \", accFold)\n",
        "    \n",
        "    # Listing accuracy for calculation of average & stkdev\n",
        "    accAverageList.append(accFold)\n",
        "    \n",
        "    # Listing matrices for calculating average and making confusion matrix\n",
        "    confAverageList.append(confFold)\n",
        "\n",
        "    remaining_folds = np.delete(range(0,folds), iFold)\n",
        "    validationFold = indices[ remaining_folds[0] ]\n",
        "  \n",
        "  # Calculating Average accuracy\n",
        "  accAverage = sum(accAverageList)/nFolds\n",
        "  print(\"\\nAverage accuracy:\", accAverage)\n",
        "\n",
        "  # Calculating Standard Deviation\n",
        "  print(\"Standard deviation:\", statistics.stdev(accAverageList))\n",
        "\n",
        "  # Calculating the average matrix\n",
        "  matrixFinal = confAverageList[nFolds-1]\n",
        "\n",
        "  return accAverage, matrixFinal\n"
      ],
      "execution_count": 47,
      "outputs": []
    },
    {
      "source": [
        "## Average metrics for cross_validated data"
      ],
      "cell_type": "markdown",
      "metadata": {}
    },
    {
      "cell_type": "code",
      "metadata": {
        "id": "3fMCoi7AU2gh",
        "colab": {
          "base_uri": "https://localhost:8080/",
          "height": 1000
        },
        "outputId": "aa3c0e9e-673c-45a0-81f1-abbff7fe62bd"
      },
      "source": [
        "# evaluate clean data code\n",
        "averageAccuracy, finalMatrix = myNestedCrossVal(X, y, nFolds, k, ['euclidean', 'manhattan'], mySeed)"
      ],
      "execution_count": 48,
      "outputs": [
        {
          "output_type": "stream",
          "text": [
            "\n",
            "*** Iterration no. 1 ***\n"
          ],
          "name": "stdout"
        },
        {
          "output_type": "display_data",
          "data": {
            "image/png": "[encoded data removed]",
            "text/plain": [
              "<Figure size 432x288 with 2 Axes>"
            ]
          },
          "metadata": {
            "tags": []
          }
        },
        {
          "output_type": "stream",
          "text": [
            "k =  2\n",
            "Distance =  euclidean\n",
            "accuracy =  0.9722222222222222\n",
            "\n",
            "*** Iterration no. 2 ***\n"
          ],
          "name": "stdout"
        },
        {
          "output_type": "display_data",
          "data": {
            "image/png": "[encoded data removed]",
            "text/plain": [
              "<Figure size 432x288 with 2 Axes>"
            ]
          },
          "metadata": {
            "tags": []
          }
        },
        {
          "output_type": "stream",
          "text": [
            "k =  3\n",
            "Distance =  manhattan\n",
            "accuracy =  1.0\n",
            "\n",
            "*** Iterration no. 3 ***\n"
          ],
          "name": "stdout"
        },
        {
          "output_type": "display_data",
          "data": {
            "image/png": "[encoded data removed]",
            "text/plain": [
              "<Figure size 432x288 with 2 Axes>"
            ]
          },
          "metadata": {
            "tags": []
          }
        },
        {
          "output_type": "stream",
          "text": [
            "k =  4\n",
            "Distance =  euclidean\n",
            "accuracy =  0.8888888888888888\n",
            "\n",
            "*** Iterration no. 4 ***\n"
          ],
          "name": "stdout"
        },
        {
          "output_type": "display_data",
          "data": {
            "image/png": "[encoded data removed]",
            "text/plain": [
              "<Figure size 432x288 with 2 Axes>"
            ]
          },
          "metadata": {
            "tags": []
          }
        },
        {
          "output_type": "stream",
          "text": [
            "k =  5\n",
            "Distance =  manhattan\n",
            "accuracy =  0.9142857142857143\n",
            "\n",
            "*** Iterration no. 5 ***\n"
          ],
          "name": "stdout"
        },
        {
          "output_type": "display_data",
          "data": {
            "image/png": "[encoded data removed]",
            "text/plain": [
              "<Figure size 432x288 with 2 Axes>"
            ]
          },
          "metadata": {
            "tags": []
          }
        },
        {
          "output_type": "stream",
          "text": [
            "k =  6\n",
            "Distance =  euclidean\n",
            "accuracy =  0.9428571428571428\n",
            "\n",
            "Average accuracy: 0.9436507936507936\n",
            "Standard deviation: 0.044309602705421794\n"
          ],
          "name": "stdout"
        }
      ]
    },
    {
      "source": [
        "## Average metrics for cross_validated noisy data"
      ],
      "cell_type": "markdown",
      "metadata": {}
    },
    {
      "cell_type": "code",
      "metadata": {
        "id": "cQLlEy5tU2gi",
        "colab": {
          "base_uri": "https://localhost:8080/",
          "height": 1000
        },
        "outputId": "1af055c8-8ed8-4c3e-ffd8-3143a1b5a0e6"
      },
      "source": [
        "# evaluate noisy  data code\n",
        "averageAccuracy_N, finalMatrix_N = myNestedCrossVal(XN, y, nFolds, k, ['euclidean', 'manhattan'], mySeed)"
      ],
      "execution_count": 49,
      "outputs": [
        {
          "output_type": "stream",
          "text": [
            "\n",
            "*** Iterration no. 1 ***\n"
          ],
          "name": "stdout"
        },
        {
          "output_type": "display_data",
          "data": {
            "image/png": "[encoded data removed]",
            "text/plain": [
              "<Figure size 432x288 with 2 Axes>"
            ]
          },
          "metadata": {
            "tags": []
          }
        },
        {
          "output_type": "stream",
          "text": [
            "k =  2\n",
            "Distance =  euclidean\n",
            "accuracy =  0.9166666666666666\n",
            "\n",
            "*** Iterration no. 2 ***\n"
          ],
          "name": "stdout"
        },
        {
          "output_type": "display_data",
          "data": {
            "image/png": "[encoded data removed]",
            "text/plain": [
              "<Figure size 432x288 with 2 Axes>"
            ]
          },
          "metadata": {
            "tags": []
          }
        },
        {
          "output_type": "stream",
          "text": [
            "k =  3\n",
            "Distance =  manhattan\n",
            "accuracy =  0.9444444444444444\n",
            "\n",
            "*** Iterration no. 3 ***\n"
          ],
          "name": "stdout"
        },
        {
          "output_type": "display_data",
          "data": {
            "image/png": "[encoded data removed]",
            "text/plain": [
              "<Figure size 432x288 with 2 Axes>"
            ]
          },
          "metadata": {
            "tags": []
          }
        },
        {
          "output_type": "stream",
          "text": [
            "k =  4\n",
            "Distance =  euclidean\n",
            "accuracy =  0.9444444444444444\n",
            "\n",
            "*** Iterration no. 4 ***\n"
          ],
          "name": "stdout"
        },
        {
          "output_type": "display_data",
          "data": {
            "image/png": "[encoded data removed]",
            "text/plain": [
              "<Figure size 432x288 with 2 Axes>"
            ]
          },
          "metadata": {
            "tags": []
          }
        },
        {
          "output_type": "stream",
          "text": [
            "k =  5\n",
            "Distance =  manhattan\n",
            "accuracy =  0.8571428571428571\n",
            "\n",
            "*** Iterration no. 5 ***\n"
          ],
          "name": "stdout"
        },
        {
          "output_type": "display_data",
          "data": {
            "image/png": "[encoded data removed]",
            "text/plain": [
              "<Figure size 432x288 with 2 Axes>"
            ]
          },
          "metadata": {
            "tags": []
          }
        },
        {
          "output_type": "stream",
          "text": [
            "k =  6\n",
            "Distance =  euclidean\n",
            "accuracy =  0.9142857142857143\n",
            "\n",
            "Average accuracy: 0.9153968253968253\n",
            "Standard deviation: 0.03565073711284723\n"
          ],
          "name": "stdout"
        }
      ]
    },
    {
      "cell_type": "markdown",
      "metadata": {
        "id": "4yy8T8fAU2gj"
      },
      "source": [
        "## Comparing of results\n",
        "\n",
        "**clean** data:\n",
        "\n",
        "| Fold | accuracy |  k  | distance |\n",
        "| --- | --- | --- | --- |\n",
        "| 1 | 0.9722  |  2 | euclidean  |\n",
        "| 2 | 1.0  |  3 | manhattan  |\n",
        "| 3 | 0.8888  |  4 | euclidean  |\n",
        "| 4 | 0.9142  |  5 | manhattan  |\n",
        "| 5 | 0.9428  |  6 | euclidean  |\n",
        "| **total** | 0.9436 $\\pm$ 0.0443 |   |    |\n",
        "\n",
        "**noisy** data:\n",
        "\n",
        "| Fold | accuracy |  k  | distance |\n",
        "| --- | --- | --- | --- |\n",
        "| 1 | 0.9166  |  2 | euclidean  |\n",
        "| 2 | 0.9444  |  3 | manhattan  |\n",
        "| 3 | 0.9444  |  4 | euclidean  |\n",
        "| 4 | 0.8571  |  5 | manhattan  |\n",
        "| 5 | 0.9142  |  6 | euclidean  |\n",
        "| **total** | 0.9153 $\\pm$ 0.0356 |   |    |\n"
      ]
    },
    {
      "source": [
        "# Summary with Average Accuracy, Error percentage and Confusion matrix"
      ],
      "cell_type": "markdown",
      "metadata": {}
    },
    {
      "cell_type": "code",
      "metadata": {
        "id": "b6_8fbaKU2gm",
        "colab": {
          "base_uri": "https://localhost:8080/",
          "height": 682
        },
        "outputId": "b3ef55ff-bc61-43e2-d4c6-dedb4d58f7e5"
      },
      "source": [
        "print('**CLEAN DATA**')\n",
        "# clean data summary results\n",
        "print(\"Accuracy: \", averageAccuracy)\n",
        "print(\"Error percentage: \", 100 - (averageAccuracy * 100))\n",
        "print(\"Confusion Matrix: \")\n",
        "# Making heatmap of the matrix \n",
        "sn.heatmap(finalMatrix, linecolor='white', linewidths=0.5, xticklabels='' , yticklabels='', annot=True, cmap='PuBu')\n",
        "plt.show()\n",
        "\n",
        "\n",
        "\n",
        "print('\\n\\n**NOISY DATA**')\n",
        "# clean data summary results\n",
        "print(\"Accuracy: \", averageAccuracy_N)\n",
        "print(\"Error percentage: \", 100 - (averageAccuracy_N * 100))\n",
        "print(\"Confusion Matrix: \")\n",
        "# Making heatmap of the matrix \n",
        "sn.heatmap(finalMatrix_N, linecolor='white', linewidths=0.5, xticklabels='' , yticklabels='', annot=True, cmap='PuBu')\n",
        "plt.show()"
      ],
      "execution_count": 53,
      "outputs": [
        {
          "output_type": "stream",
          "text": [
            "**CLEAN DATA**\n",
            "Accuracy:  0.9436507936507936\n",
            "Error percentage:  5.634920634920633\n",
            "Confusion Matrix: \n"
          ],
          "name": "stdout"
        },
        {
          "output_type": "display_data",
          "data": {
            "image/png": "[encoded data removed]",
            "text/plain": [
              "<Figure size 432x288 with 2 Axes>"
            ]
          },
          "metadata": {
            "tags": []
          }
        },
        {
          "output_type": "stream",
          "text": [
            "\n",
            "\n",
            "**NOISY DATA**\n",
            "Accuracy:  0.9153968253968253\n",
            "Error percentage:  8.46031746031747\n",
            "Confusion Matrix: \n"
          ],
          "name": "stdout"
        },
        {
          "output_type": "display_data",
          "data": {
            "image/png": "[encoded data removed]",
            "text/plain": [
              "<Figure size 432x288 with 2 Axes>"
            ]
          },
          "metadata": {
            "tags": []
          }
        }
      ]
    }
  ]
}